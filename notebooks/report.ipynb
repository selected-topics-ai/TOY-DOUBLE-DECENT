{
 "cells": [
  {
   "cell_type": "code",
   "id": "bd6e1371",
   "metadata": {
    "ExecuteTime": {
     "end_time": "2025-04-08T21:09:10.655286Z",
     "start_time": "2025-04-08T21:09:09.933037Z"
    }
   },
   "source": [
    "from src.model import ToyNN\n",
    "from src.generate_data import generate_batch"
   ],
   "outputs": [],
   "execution_count": 2
  },
  {
   "metadata": {
    "ExecuteTime": {
     "end_time": "2025-04-08T21:09:10.677883Z",
     "start_time": "2025-04-08T21:09:10.658964Z"
    }
   },
   "cell_type": "code",
   "source": "batch = generate_batch(n_batch=3, n_features=10, sparsity_prob=0.5)",
   "id": "beeece7feef7e7fd",
   "outputs": [],
   "execution_count": 3
  },
  {
   "metadata": {
    "ExecuteTime": {
     "end_time": "2025-04-08T21:09:10.994667Z",
     "start_time": "2025-04-08T21:09:10.983836Z"
    }
   },
   "cell_type": "code",
   "source": "model = ToyNN(input_dim=10, hidden_dim=2)",
   "id": "a1864b223f64ac56",
   "outputs": [],
   "execution_count": 4
  },
  {
   "metadata": {
    "ExecuteTime": {
     "end_time": "2025-04-08T21:09:11.659735Z",
     "start_time": "2025-04-08T21:09:11.588722Z"
    }
   },
   "cell_type": "code",
   "source": "model(batch)",
   "id": "3f4bc149e92d3e65",
   "outputs": [
    {
     "data": {
      "text/plain": [
       "(tensor([[0.0133, 0.1081, 0.0169, 0.0000, 0.0453, 0.0000, 0.0000, 0.0285, 0.0000,\n",
       "          0.0135],\n",
       "         [0.0000, 0.0000, 0.0000, 0.1100, 0.0000, 0.0390, 0.0694, 0.0496, 0.0316,\n",
       "          0.0172],\n",
       "         [0.0898, 0.5538, 0.0797, 0.0000, 0.2011, 0.0000, 0.0000, 0.0000, 0.0000,\n",
       "          0.0064]], device='mps:0', grad_fn=<ReluBackward0>),\n",
       " tensor([[-0.0945, -0.0540],\n",
       "         [ 0.0434,  0.2052],\n",
       "         [-0.2371, -0.3478]], device='mps:0'))"
      ]
     },
     "execution_count": 5,
     "metadata": {},
     "output_type": "execute_result"
    }
   ],
   "execution_count": 5
  },
  {
   "metadata": {
    "ExecuteTime": {
     "end_time": "2025-04-08T21:52:38.671331Z",
     "start_time": "2025-04-08T21:52:38.661399Z"
    }
   },
   "cell_type": "code",
   "source": [
    "import torch\n",
    "\n",
    "state_dict = torch.load('../checkpoints/checkpoint_3.pth', weights_only=False)"
   ],
   "id": "f87918fe2b6adf4c",
   "outputs": [],
   "execution_count": 15
  },
  {
   "metadata": {
    "ExecuteTime": {
     "end_time": "2025-04-08T21:53:39.091110Z",
     "start_time": "2025-04-08T21:53:39.088244Z"
    }
   },
   "cell_type": "code",
   "source": [
    "hiddens = state_dict['hiddens']\n",
    "\n",
    "type(hiddens)"
   ],
   "id": "5e3c45ac0cf7e8f7",
   "outputs": [
    {
     "data": {
      "text/plain": [
       "numpy.ndarray"
      ]
     },
     "execution_count": 24,
     "metadata": {},
     "output_type": "execute_result"
    }
   ],
   "execution_count": 24
  },
  {
   "metadata": {
    "ExecuteTime": {
     "end_time": "2025-04-08T21:53:49.152631Z",
     "start_time": "2025-04-08T21:53:49.087938Z"
    }
   },
   "cell_type": "code",
   "source": [
    "from matplotlib import pyplot as plt\n",
    "\n",
    "plt.scatter(hiddens[:, 0], hiddens[:, 1])"
   ],
   "id": "c09d70b7e2b59a72",
   "outputs": [
    {
     "data": {
      "text/plain": [
       "<matplotlib.collections.PathCollection at 0x10e2ed190>"
      ]
     },
     "execution_count": 25,
     "metadata": {},
     "output_type": "execute_result"
    },
    {
     "data": {
      "text/plain": [
       "<Figure size 640x480 with 1 Axes>"
      ],
      "image/png": "[encoded data removed]"
     },
     "metadata": {},
     "output_type": "display_data"
    }
   ],
   "execution_count": 25
  },
  {
   "metadata": {},
   "cell_type": "code",
   "outputs": [],
   "execution_count": null,
   "source": "",
   "id": "22b375f8a577bc2e"
  }
 ],
 "metadata": {
  "kernelspec": {
   "display_name": ".venv",
   "language": "python",
   "name": "python3"
  },
  "language_info": {
   "codemirror_mode": {
    "name": "ipython",
    "version": 3
   },
   "file_extension": ".py",
   "mimetype": "text/x-python",
   "name": "python",
   "nbconvert_exporter": "python",
   "pygments_lexer": "ipython3",
   "version": "3.12.9"
  }
 },
 "nbformat": 4,
 "nbformat_minor": 5
}
